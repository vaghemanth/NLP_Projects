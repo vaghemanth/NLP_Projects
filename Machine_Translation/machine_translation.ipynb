{
 "cells": [
  {
   "cell_type": "markdown",
   "metadata": {
    "collapsed": true
   },
   "source": [
    "# Artificial Intelligence Nanodegree\n",
    "## Machine Translation Project\n",
    "In this notebook, sections that end with **'(IMPLEMENTATION)'** in the header indicate that the following blocks of code will require additional functionality which you must provide. Please be sure to read the instructions carefully!\n",
    "\n",
    "## Introduction\n",
    "In this notebook, you will build a deep neural network that functions as part of an end-to-end machine translation pipeline. Your completed pipeline will accept English text as input and return the French translation.\n",
    "\n",
    "- **Preprocess** - You'll convert text to sequence of integers.\n",
    "- **Models** Create models which accepts a sequence of integers as input and returns a probability distribution over possible translations. After learning about the basic types of neural networks that are often used for machine translation, you will engage in your own investigations, to design your own model!\n",
    "- **Prediction** Run the model on English text."
   ]
  },
  {
   "cell_type": "code",
   "execution_count": 1,
   "metadata": {},
   "outputs": [
    {
     "name": "stderr",
     "output_type": "stream",
     "text": [
      "2024-12-29 07:54:30.958897: E tensorflow/compiler/xla/stream_executor/cuda/cuda_dnn.cc:9342] Unable to register cuDNN factory: Attempting to register factory for plugin cuDNN when one has already been registered\n",
      "2024-12-29 07:54:30.958955: E tensorflow/compiler/xla/stream_executor/cuda/cuda_fft.cc:609] Unable to register cuFFT factory: Attempting to register factory for plugin cuFFT when one has already been registered\n",
      "2024-12-29 07:54:30.959003: E tensorflow/compiler/xla/stream_executor/cuda/cuda_blas.cc:1518] Unable to register cuBLAS factory: Attempting to register factory for plugin cuBLAS when one has already been registered\n",
      "2024-12-29 07:54:30.969642: I tensorflow/core/platform/cpu_feature_guard.cc:182] This TensorFlow binary is optimized to use available CPU instructions in performance-critical operations.\n",
      "To enable the following instructions: AVX2 FMA, in other operations, rebuild TensorFlow with the appropriate compiler flags.\n"
     ]
    }
   ],
   "source": [
    "%load_ext autoreload\n",
    "%aimport helper, project_tests\n",
    "%autoreload 1"
   ]
  },
  {
   "cell_type": "code",
   "execution_count": 2,
   "metadata": {},
   "outputs": [
    {
     "name": "stdout",
     "output_type": "stream",
     "text": [
      "keras==2.14.0\r\n",
      "tf-keras==2.14.1\r\n"
     ]
    }
   ],
   "source": [
    "# Should return keras==2.14.0 and tf-keras==2.14.1\n",
    "!pip freeze | grep keras"
   ]
  },
  {
   "cell_type": "code",
   "execution_count": 3,
   "metadata": {},
   "outputs": [
    {
     "name": "stdout",
     "output_type": "stream",
     "text": [
      "tensorflow==2.14.0\r\n",
      "tensorflow-datasets==4.9.4\r\n",
      "tensorflow-estimator==2.14.0\r\n",
      "tensorflow-hub==0.16.1\r\n",
      "tensorflow-io-gcs-filesystem==0.34.0\r\n",
      "tensorflow-metadata==1.15.0\r\n"
     ]
    }
   ],
   "source": [
    "# Should return tensorflow==2.14.0\n",
    "!pip freeze | grep tensorflow"
   ]
  },
  {
   "cell_type": "code",
   "execution_count": 4,
   "metadata": {},
   "outputs": [],
   "source": [
    "import collections\n",
    "\n",
    "import helper\n",
    "import numpy as np\n",
    "import project_tests as tests\n",
    "\n",
    "from tensorflow.keras.preprocessing.text import Tokenizer\n",
    "from keras.preprocessing.sequence import pad_sequences\n",
    "from keras.models import Model\n",
    "from tensorflow.keras.layers import GRU, Input, Dense, TimeDistributed, Activation, RepeatVector, Bidirectional\n",
    "from keras.layers import Embedding\n",
    "from keras.optimizers import Adam\n",
    "from keras.losses import sparse_categorical_crossentropy"
   ]
  },
  {
   "cell_type": "markdown",
   "metadata": {},
   "source": [
    "## Dataset\n",
    "We begin by investigating the dataset that will be used to train and evaluate your pipeline.  The most common datasets used for machine translation are from [WMT](http://www.statmt.org/).  However, that will take a long time to train a neural network on.  We'll be using a dataset we created for this project that contains a small vocabulary.  You'll be able to train your model in a reasonable time with this dataset.\n",
    "### Load Data\n",
    "The data is located in `data/small_vocab_en` and `data/small_vocab_fr`. The `small_vocab_en` file contains English sentences with their French translations in the `small_vocab_fr` file. Load the English and French data from these files from running the cell below."
   ]
  },
  {
   "cell_type": "code",
   "execution_count": 5,
   "metadata": {},
   "outputs": [
    {
     "name": "stdout",
     "output_type": "stream",
     "text": [
      "Dataset Loaded\n"
     ]
    }
   ],
   "source": [
    "# Load English data\n",
    "english_sentences = helper.load_data('data/small_vocab_en')\n",
    "# Load French data\n",
    "french_sentences = helper.load_data('data/small_vocab_fr')\n",
    "\n",
    "print('Dataset Loaded')"
   ]
  },
  {
   "cell_type": "markdown",
   "metadata": {},
   "source": [
    "### Files\n",
    "Each line in `small_vocab_en` contains an English sentence with the respective translation in each line of `small_vocab_fr`.  View the first two lines from each file."
   ]
  },
  {
   "cell_type": "code",
   "execution_count": 6,
   "metadata": {},
   "outputs": [
    {
     "name": "stdout",
     "output_type": "stream",
     "text": [
      "small_vocab_en Line 1:  new jersey is sometimes quiet during autumn , and it is snowy in april .\n",
      "small_vocab_fr Line 1:  new jersey est parfois calme pendant l' automne , et il est neigeux en avril .\n",
      "small_vocab_en Line 2:  the united states is usually chilly during july , and it is usually freezing in november .\n",
      "small_vocab_fr Line 2:  les états-unis est généralement froid en juillet , et il gèle habituellement en novembre .\n"
     ]
    }
   ],
   "source": [
    "for sample_i in range(2):\n",
    "    print('small_vocab_en Line {}:  {}'.format(sample_i + 1, english_sentences[sample_i]))\n",
    "    print('small_vocab_fr Line {}:  {}'.format(sample_i + 1, french_sentences[sample_i]))"
   ]
  },
  {
   "cell_type": "markdown",
   "metadata": {},
   "source": [
    "From looking at the sentences, you can see they have been preprocessed already.  The puncuations have been delimited using spaces. All the text have been converted to lowercase.  This should save you some time, but the text requires more preprocessing.\n",
    "### Vocabulary\n",
    "The complexity of the problem is determined by the complexity of the vocabulary.  A more complex vocabulary is a more complex problem.  Let's look at the complexity of the dataset we'll be working with."
   ]
  },
  {
   "cell_type": "code",
   "execution_count": 7,
   "metadata": {},
   "outputs": [
    {
     "name": "stdout",
     "output_type": "stream",
     "text": [
      "1823250 English words.\n",
      "227 unique English words.\n",
      "10 Most common words in the English dataset:\n",
      "\"is\" \",\" \".\" \"in\" \"it\" \"during\" \"the\" \"but\" \"and\" \"sometimes\"\n",
      "\n",
      "1961295 French words.\n",
      "355 unique French words.\n",
      "10 Most common words in the French dataset:\n",
      "\"est\" \".\" \",\" \"en\" \"il\" \"les\" \"mais\" \"et\" \"la\" \"parfois\"\n"
     ]
    }
   ],
   "source": [
    "english_words_counter = collections.Counter([word for sentence in english_sentences for word in sentence.split()])\n",
    "french_words_counter = collections.Counter([word for sentence in french_sentences for word in sentence.split()])\n",
    "\n",
    "print('{} English words.'.format(len([word for sentence in english_sentences for word in sentence.split()])))\n",
    "print('{} unique English words.'.format(len(english_words_counter)))\n",
    "print('10 Most common words in the English dataset:')\n",
    "print('\"' + '\" \"'.join(list(zip(*english_words_counter.most_common(10)))[0]) + '\"')\n",
    "print()\n",
    "print('{} French words.'.format(len([word for sentence in french_sentences for word in sentence.split()])))\n",
    "print('{} unique French words.'.format(len(french_words_counter)))\n",
    "print('10 Most common words in the French dataset:')\n",
    "print('\"' + '\" \"'.join(list(zip(*french_words_counter.most_common(10)))[0]) + '\"')"
   ]
  },
  {
   "cell_type": "markdown",
   "metadata": {},
   "source": [
    "For comparison, _Alice's Adventures in Wonderland_ contains 2,766 unique words of a total of 15,500 words.\n",
    "## Preprocess\n",
    "For this project, you won't use text data as input to your model. Instead, you'll convert the text into sequences of integers using the following preprocess methods:\n",
    "1. Tokenize the words into ids\n",
    "2. Add padding to make all the sequences the same length.\n",
    "\n",
    "Time to start preprocessing the data...\n",
    "### Tokenize (IMPLEMENTATION)\n",
    "For a neural network to predict on text data, it first has to be turned into data it can understand. Text data like \"dog\" is a sequence of ASCII character encodings.  Since a neural network is a series of multiplication and addition operations, the input data needs to be number(s).\n",
    "\n",
    "We can turn each character into a number or each word into a number.  These are called character and word ids, respectively.  Character ids are used for character level models that generate text predictions for each character.  A word level model uses word ids that generate text predictions for each word.  Word level models tend to learn better, since they are lower in complexity, so we'll use those.\n",
    "\n",
    "Turn each sentence into a sequence of words ids using Keras's [`Tokenizer`](https://keras.io/preprocessing/text/#tokenizer) function. Use this function to tokenize `english_sentences` and `french_sentences` in the cell below.\n",
    "\n",
    "Running the cell will run `tokenize` on sample data and show output for debugging."
   ]
  },
  {
   "cell_type": "code",
   "execution_count": 8,
   "metadata": {},
   "outputs": [
    {
     "name": "stdout",
     "output_type": "stream",
     "text": [
      "{'the': 1, 'quick': 2, 'a': 3, 'brown': 4, 'fox': 5, 'jumps': 6, 'over': 7, 'lazy': 8, 'dog': 9, 'by': 10, 'jove': 11, 'my': 12, 'study': 13, 'of': 14, 'lexicography': 15, 'won': 16, 'prize': 17, 'this': 18, 'is': 19, 'short': 20, 'sentence': 21}\n",
      "\n",
      "Sequence 1 in x\n",
      "  Input:  The quick brown fox jumps over the lazy dog .\n",
      "  Output: [1, 2, 4, 5, 6, 7, 1, 8, 9]\n",
      "Sequence 2 in x\n",
      "  Input:  By Jove , my quick study of lexicography won a prize .\n",
      "  Output: [10, 11, 12, 2, 13, 14, 15, 16, 3, 17]\n",
      "Sequence 3 in x\n",
      "  Input:  This is a short sentence .\n",
      "  Output: [18, 19, 3, 20, 21]\n"
     ]
    }
   ],
   "source": [
    "def tokenize(x):\n",
    "    \"\"\"\n",
    "    Tokenize x\n",
    "    :param x: List of sentences/strings to be tokenized\n",
    "    :return: Tuple of (tokenized x data, tokenizer used to tokenize x)\n",
    "    \"\"\"\n",
    "    # TODO: Implement\n",
    "    tkzr = Tokenizer()\n",
    "    tkzr.fit_on_texts(x)\n",
    "    return tkzr.texts_to_sequences(x), tkzr\n",
    "    #return None, None\n",
    "tests.test_tokenize(tokenize)\n",
    "\n",
    "# Tokenize Example output\n",
    "text_sentences = [\n",
    "    'The quick brown fox jumps over the lazy dog .',\n",
    "    'By Jove , my quick study of lexicography won a prize .',\n",
    "    'This is a short sentence .']\n",
    "text_tokenized, text_tokenizer = tokenize(text_sentences)\n",
    "print(text_tokenizer.word_index)\n",
    "print()\n",
    "for sample_i, (sent, token_sent) in enumerate(zip(text_sentences, text_tokenized)):\n",
    "    print('Sequence {} in x'.format(sample_i + 1))\n",
    "    print('  Input:  {}'.format(sent))\n",
    "    print('  Output: {}'.format(token_sent))"
   ]
  },
  {
   "cell_type": "markdown",
   "metadata": {},
   "source": [
    "### Padding (IMPLEMENTATION)\n",
    "When batching the sequence of word ids together, each sequence needs to be the same length.  Since sentences are dynamic in length, we can add padding to the end of the sequences to make them the same length.\n",
    "\n",
    "Make sure all the English sequences have the same length and all the French sequences have the same length by adding padding to the **end** of each sequence using Keras's [`pad_sequences`](https://keras.io/preprocessing/sequence/#pad_sequences) function."
   ]
  },
  {
   "cell_type": "code",
   "execution_count": 9,
   "metadata": {},
   "outputs": [
    {
     "name": "stdout",
     "output_type": "stream",
     "text": [
      "Sequence 1 in x\n",
      "  Input:  [1 2 4 5 6 7 1 8 9]\n",
      "  Output: [1 2 4 5 6 7 1 8 9 0]\n",
      "Sequence 2 in x\n",
      "  Input:  [10 11 12  2 13 14 15 16  3 17]\n",
      "  Output: [10 11 12  2 13 14 15 16  3 17]\n",
      "Sequence 3 in x\n",
      "  Input:  [18 19  3 20 21]\n",
      "  Output: [18 19  3 20 21  0  0  0  0  0]\n"
     ]
    }
   ],
   "source": [
    "def pad(x, length=None):\n",
    "    \"\"\"\n",
    "    Pad x\n",
    "    :param x: List of sequences.\n",
    "    :param length: Length to pad the sequence to.  If None, use length of longest sequence in x.\n",
    "    :return: Padded numpy array of sequences\n",
    "    \"\"\"\n",
    "    # TODO: Implement\n",
    "    if length is None:\n",
    "        length = max([len(word) for word in x])\n",
    "    return pad_sequences(x, maxlen=length, padding=\"post\")\n",
    "    #return None\n",
    "tests.test_pad(pad)\n",
    "\n",
    "# Pad Tokenized output\n",
    "test_pad = pad(text_tokenized)\n",
    "for sample_i, (token_sent, pad_sent) in enumerate(zip(text_tokenized, test_pad)):\n",
    "    print('Sequence {} in x'.format(sample_i + 1))\n",
    "    print('  Input:  {}'.format(np.array(token_sent)))\n",
    "    print('  Output: {}'.format(pad_sent))"
   ]
  },
  {
   "cell_type": "markdown",
   "metadata": {},
   "source": [
    "### Preprocess Pipeline\n",
    "Your focus for this project is to build neural network architecture, so we won't ask you to create a preprocess pipeline.  Instead, we've provided you with the implementation of the `preprocess` function."
   ]
  },
  {
   "cell_type": "code",
   "execution_count": 10,
   "metadata": {},
   "outputs": [
    {
     "name": "stdout",
     "output_type": "stream",
     "text": [
      "Data Preprocessed\n",
      "Max English sentence length: 15\n",
      "Max French sentence length: 21\n",
      "English vocabulary size: 199\n",
      "French vocabulary size: 344\n"
     ]
    }
   ],
   "source": [
    "def preprocess(x, y):\n",
    "    \"\"\"\n",
    "    Preprocess x and y\n",
    "    :param x: Feature List of sentences\n",
    "    :param y: Label List of sentences\n",
    "    :return: Tuple of (Preprocessed x, Preprocessed y, x tokenizer, y tokenizer)\n",
    "    \"\"\"\n",
    "    preprocess_x, x_tk = tokenize(x)\n",
    "    preprocess_y, y_tk = tokenize(y)\n",
    "\n",
    "    preprocess_x = pad(preprocess_x)\n",
    "    preprocess_y = pad(preprocess_y)\n",
    "\n",
    "    # Keras's sparse_categorical_crossentropy function requires the labels to be in 3 dimensions\n",
    "    preprocess_y = preprocess_y.reshape(*preprocess_y.shape, 1)\n",
    "\n",
    "    return preprocess_x, preprocess_y, x_tk, y_tk\n",
    "\n",
    "preproc_english_sentences, preproc_french_sentences, english_tokenizer, french_tokenizer =\\\n",
    "    preprocess(english_sentences, french_sentences)\n",
    "    \n",
    "max_english_sequence_length = preproc_english_sentences.shape[1]\n",
    "max_french_sequence_length = preproc_french_sentences.shape[1]\n",
    "english_vocab_size = len(english_tokenizer.word_index)\n",
    "french_vocab_size = len(french_tokenizer.word_index)\n",
    "\n",
    "print('Data Preprocessed')\n",
    "print(\"Max English sentence length:\", max_english_sequence_length)\n",
    "print(\"Max French sentence length:\", max_french_sequence_length)\n",
    "print(\"English vocabulary size:\", english_vocab_size)\n",
    "print(\"French vocabulary size:\", french_vocab_size)"
   ]
  },
  {
   "cell_type": "markdown",
   "metadata": {},
   "source": [
    "## Models\n",
    "In this section, you will experiment with various neural network architectures.\n",
    "You will begin by training four relatively simple architectures.\n",
    "- Model 1 is a simple RNN\n",
    "- Model 2 is a RNN with Embedding\n",
    "- Model 3 is a Bidirectional RNN\n",
    "- Model 4 is an Encoder-Decoder RNN\n",
    "\n",
    "After experimenting with the four simple architectures, you will construct a deeper architecture that is designed to outperform all four models.\n",
    "### Ids Back to Text\n",
    "The neural network will be translating the input to words ids, which isn't the final form we want.  We want the French translation.  The function `logits_to_text` will bridge the gab between the logits from the neural network to the French translation.  You'll be using this function to better understand the output of the neural network."
   ]
  },
  {
   "cell_type": "code",
   "execution_count": 11,
   "metadata": {},
   "outputs": [
    {
     "name": "stdout",
     "output_type": "stream",
     "text": [
      "`logits_to_text` function loaded.\n"
     ]
    }
   ],
   "source": [
    "def logits_to_text(logits, tokenizer):\n",
    "    \"\"\"\n",
    "    Turn logits from a neural network into text using the tokenizer\n",
    "    :param logits: Logits from a neural network\n",
    "    :param tokenizer: Keras Tokenizer fit on the labels\n",
    "    :return: String that represents the text of the logits\n",
    "    \"\"\"\n",
    "    index_to_words = {id: word for word, id in tokenizer.word_index.items()}\n",
    "    index_to_words[0] = '<PAD>'\n",
    "\n",
    "    return ' '.join([index_to_words[prediction] for prediction in np.argmax(logits, 1)])\n",
    "\n",
    "print('`logits_to_text` function loaded.')"
   ]
  },
  {
   "cell_type": "markdown",
   "metadata": {},
   "source": [
    "### Model 1: RNN (IMPLEMENTATION)\n",
    "![RNN](images/rnn.png)\n",
    "A basic RNN model is a good baseline for sequence data.  In this model, you'll build a RNN that translates English to French."
   ]
  },
  {
   "cell_type": "code",
   "execution_count": 12,
   "metadata": {},
   "outputs": [
    {
     "name": "stderr",
     "output_type": "stream",
     "text": [
      "2024-12-29 07:54:48.009070: I tensorflow/compiler/xla/stream_executor/cuda/cuda_gpu_executor.cc:894] successful NUMA node read from SysFS had negative value (-1), but there must be at least one NUMA node, so returning NUMA node zero. See more at https://github.com/torvalds/linux/blob/v6.0/Documentation/ABI/testing/sysfs-bus-pci#L344-L355\n",
      "2024-12-29 07:54:48.020958: I tensorflow/compiler/xla/stream_executor/cuda/cuda_gpu_executor.cc:894] successful NUMA node read from SysFS had negative value (-1), but there must be at least one NUMA node, so returning NUMA node zero. See more at https://github.com/torvalds/linux/blob/v6.0/Documentation/ABI/testing/sysfs-bus-pci#L344-L355\n",
      "2024-12-29 07:54:48.024249: I tensorflow/compiler/xla/stream_executor/cuda/cuda_gpu_executor.cc:894] successful NUMA node read from SysFS had negative value (-1), but there must be at least one NUMA node, so returning NUMA node zero. See more at https://github.com/torvalds/linux/blob/v6.0/Documentation/ABI/testing/sysfs-bus-pci#L344-L355\n",
      "2024-12-29 07:54:48.030012: I tensorflow/compiler/xla/stream_executor/cuda/cuda_gpu_executor.cc:894] successful NUMA node read from SysFS had negative value (-1), but there must be at least one NUMA node, so returning NUMA node zero. See more at https://github.com/torvalds/linux/blob/v6.0/Documentation/ABI/testing/sysfs-bus-pci#L344-L355\n",
      "2024-12-29 07:54:48.033315: I tensorflow/compiler/xla/stream_executor/cuda/cuda_gpu_executor.cc:894] successful NUMA node read from SysFS had negative value (-1), but there must be at least one NUMA node, so returning NUMA node zero. See more at https://github.com/torvalds/linux/blob/v6.0/Documentation/ABI/testing/sysfs-bus-pci#L344-L355\n",
      "2024-12-29 07:54:48.036525: I tensorflow/compiler/xla/stream_executor/cuda/cuda_gpu_executor.cc:894] successful NUMA node read from SysFS had negative value (-1), but there must be at least one NUMA node, so returning NUMA node zero. See more at https://github.com/torvalds/linux/blob/v6.0/Documentation/ABI/testing/sysfs-bus-pci#L344-L355\n",
      "2024-12-29 07:54:48.370108: I tensorflow/compiler/xla/stream_executor/cuda/cuda_gpu_executor.cc:894] successful NUMA node read from SysFS had negative value (-1), but there must be at least one NUMA node, so returning NUMA node zero. See more at https://github.com/torvalds/linux/blob/v6.0/Documentation/ABI/testing/sysfs-bus-pci#L344-L355\n",
      "2024-12-29 07:54:48.372266: I tensorflow/compiler/xla/stream_executor/cuda/cuda_gpu_executor.cc:894] successful NUMA node read from SysFS had negative value (-1), but there must be at least one NUMA node, so returning NUMA node zero. See more at https://github.com/torvalds/linux/blob/v6.0/Documentation/ABI/testing/sysfs-bus-pci#L344-L355\n",
      "2024-12-29 07:54:48.374301: I tensorflow/compiler/xla/stream_executor/cuda/cuda_gpu_executor.cc:894] successful NUMA node read from SysFS had negative value (-1), but there must be at least one NUMA node, so returning NUMA node zero. See more at https://github.com/torvalds/linux/blob/v6.0/Documentation/ABI/testing/sysfs-bus-pci#L344-L355\n",
      "2024-12-29 07:54:48.376261: I tensorflow/core/common_runtime/gpu/gpu_device.cc:1886] Created device /job:localhost/replica:0/task:0/device:GPU:0 with 13764 MB memory:  -> device: 0, name: Tesla T4, pci bus id: 0000:00:04.0, compute capability: 7.5\n"
     ]
    },
    {
     "name": "stdout",
     "output_type": "stream",
     "text": [
      "Epoch 1/10\n"
     ]
    },
    {
     "name": "stderr",
     "output_type": "stream",
     "text": [
      "2024-12-29 07:54:52.012059: I tensorflow/compiler/xla/stream_executor/cuda/cuda_dnn.cc:442] Loaded cuDNN version 8600\n",
      "2024-12-29 07:54:52.091678: I tensorflow/compiler/xla/service/service.cc:168] XLA service 0x7860732713f0 initialized for platform CUDA (this does not guarantee that XLA will be used). Devices:\n",
      "2024-12-29 07:54:52.091725: I tensorflow/compiler/xla/service/service.cc:176]   StreamExecutor device (0): Tesla T4, Compute Capability 7.5\n",
      "2024-12-29 07:54:52.098466: I tensorflow/compiler/mlir/tensorflow/utils/dump_mlir_util.cc:269] disabling MLIR crash reproducer, set env var `MLIR_CRASH_REPRODUCER_DIRECTORY` to enable.\n",
      "2024-12-29 07:54:52.446905: I ./tensorflow/compiler/jit/device_compiler.h:186] Compiled cluster using XLA!  This line is logged at most once for the lifetime of the process.\n"
     ]
    },
    {
     "name": "stdout",
     "output_type": "stream",
     "text": [
      "108/108 [==============================] - 7s 39ms/step - loss: 2.3625 - accuracy: 0.5023 - val_loss: nan - val_accuracy: 0.5778\n",
      "Epoch 2/10\n",
      "108/108 [==============================] - 4s 33ms/step - loss: 1.5193 - accuracy: 0.5993 - val_loss: nan - val_accuracy: 0.6111\n",
      "Epoch 3/10\n",
      "108/108 [==============================] - 4s 33ms/step - loss: 1.3235 - accuracy: 0.6277 - val_loss: nan - val_accuracy: 0.6410\n",
      "Epoch 4/10\n",
      "108/108 [==============================] - 4s 33ms/step - loss: 1.2009 - accuracy: 0.6513 - val_loss: nan - val_accuracy: 0.6569\n",
      "Epoch 5/10\n",
      "108/108 [==============================] - 4s 33ms/step - loss: 1.1198 - accuracy: 0.6656 - val_loss: nan - val_accuracy: 0.6675\n",
      "Epoch 6/10\n",
      "108/108 [==============================] - 4s 34ms/step - loss: 1.0662 - accuracy: 0.6726 - val_loss: nan - val_accuracy: 0.6797\n",
      "Epoch 7/10\n",
      "108/108 [==============================] - 4s 34ms/step - loss: 1.0236 - accuracy: 0.6785 - val_loss: nan - val_accuracy: 0.6814\n",
      "Epoch 8/10\n",
      "108/108 [==============================] - 4s 34ms/step - loss: 0.9882 - accuracy: 0.6835 - val_loss: nan - val_accuracy: 0.6850\n",
      "Epoch 9/10\n",
      "108/108 [==============================] - 4s 34ms/step - loss: 0.9585 - accuracy: 0.6871 - val_loss: nan - val_accuracy: 0.6962\n",
      "Epoch 10/10\n",
      "108/108 [==============================] - 4s 34ms/step - loss: 0.9286 - accuracy: 0.6933 - val_loss: nan - val_accuracy: 0.6953\n",
      "1/1 [==============================] - 0s 419ms/step\n",
      "paris jersey est parfois calme en mois de mai et il est en en <PAD> <PAD> <PAD> <PAD> <PAD> <PAD> <PAD>\n"
     ]
    }
   ],
   "source": [
    "def simple_model(input_shape, output_sequence_length, english_vocab_size, french_vocab_size):\n",
    "    \"\"\"\n",
    "    Build and train a basic RNN on x and y\n",
    "    :param input_shape: Tuple of input shape\n",
    "    :param output_sequence_length: Length of output sequence\n",
    "    :param english_vocab_size: Number of unique English words in the dataset\n",
    "    :param french_vocab_size: Number of unique French words in the dataset\n",
    "    :return: Keras model built, but not trained\n",
    "    \"\"\"\n",
    "    # TODO: Build the layers\n",
    "    #print(input_shape)\n",
    "    input_to_rnn = Input(input_shape[1:])\n",
    "    rnn = GRU(384,return_sequences=True)(input_to_rnn)\n",
    "    logits = TimeDistributed(Dense(french_vocab_size))(rnn)\n",
    "    \n",
    "    learning_rate = 1e-3\n",
    "    model = Model(input_to_rnn, Activation('softmax')(logits)) \n",
    "    model.compile(loss=sparse_categorical_crossentropy,\n",
    "                  optimizer=Adam(learning_rate),\n",
    "                  metrics=['accuracy'])\n",
    "    return model\n",
    "tests.test_simple_model(simple_model)\n",
    "\n",
    "# Reshaping the input to work with a basic RNN\n",
    "tmp_x = pad(preproc_english_sentences, max_french_sequence_length)\n",
    "tmp_x = tmp_x.reshape((-1, preproc_french_sentences.shape[-2], 1))\n",
    "\n",
    "# Train the neural network\n",
    "simple_rnn_model = simple_model(\n",
    "    tmp_x.shape,\n",
    "    max_french_sequence_length,\n",
    "    english_vocab_size,\n",
    "    french_vocab_size)\n",
    "simple_rnn_model.fit(tmp_x, preproc_french_sentences, batch_size=1024, epochs=10, validation_split=0.2)\n",
    "\n",
    "# Print prediction(s)\n",
    "print(logits_to_text(simple_rnn_model.predict(tmp_x[:1])[0], french_tokenizer))"
   ]
  },
  {
   "cell_type": "markdown",
   "metadata": {},
   "source": [
    "### Model 2: Embedding (IMPLEMENTATION)\n",
    "![RNN](images/embedding.png)\n",
    "You've turned the words into ids, but there's a better representation of a word.  This is called word embeddings.  An embedding is a vector representation of the word that is close to similar words in n-dimensional space, where the n represents the size of the embedding vectors.\n",
    "\n",
    "In this model, you'll create a RNN model using embedding."
   ]
  },
  {
   "cell_type": "code",
   "execution_count": 13,
   "metadata": {},
   "outputs": [
    {
     "name": "stdout",
     "output_type": "stream",
     "text": [
      "Epoch 1/10\n",
      "108/108 [==============================] - 10s 63ms/step - loss: 2.8018 - accuracy: 0.4718 - val_loss: nan - val_accuracy: 0.5803\n",
      "Epoch 2/10\n",
      "108/108 [==============================] - 5s 46ms/step - loss: 1.3261 - accuracy: 0.6857 - val_loss: nan - val_accuracy: 0.7634\n",
      "Epoch 3/10\n",
      "108/108 [==============================] - 5s 48ms/step - loss: 0.7821 - accuracy: 0.7916 - val_loss: nan - val_accuracy: 0.8189\n",
      "Epoch 4/10\n",
      "108/108 [==============================] - 5s 45ms/step - loss: 0.5411 - accuracy: 0.8400 - val_loss: nan - val_accuracy: 0.8603\n",
      "Epoch 5/10\n",
      "108/108 [==============================] - 5s 45ms/step - loss: 0.4190 - accuracy: 0.8713 - val_loss: nan - val_accuracy: 0.8789\n",
      "Epoch 6/10\n",
      "108/108 [==============================] - 5s 45ms/step - loss: 0.3519 - accuracy: 0.8889 - val_loss: nan - val_accuracy: 0.8958\n",
      "Epoch 7/10\n",
      "108/108 [==============================] - 5s 45ms/step - loss: 0.3064 - accuracy: 0.9020 - val_loss: nan - val_accuracy: 0.9056\n",
      "Epoch 8/10\n",
      "108/108 [==============================] - 5s 45ms/step - loss: 0.2770 - accuracy: 0.9103 - val_loss: nan - val_accuracy: 0.9144\n",
      "Epoch 9/10\n",
      "108/108 [==============================] - 5s 47ms/step - loss: 0.2551 - accuracy: 0.9167 - val_loss: nan - val_accuracy: 0.9196\n",
      "Epoch 10/10\n",
      "108/108 [==============================] - 5s 46ms/step - loss: 0.2375 - accuracy: 0.9218 - val_loss: nan - val_accuracy: 0.9217\n",
      "1/1 [==============================] - 0s 375ms/step\n",
      "new jersey est parfois calme en l' et il est est neigeux en avril <PAD> <PAD> <PAD> <PAD> <PAD> <PAD> <PAD>\n"
     ]
    }
   ],
   "source": [
    "def embed_model(input_shape, output_sequence_length, english_vocab_size, french_vocab_size):\n",
    "    \"\"\"\n",
    "    Build and train a RNN model using word embedding on x and y\n",
    "    :param input_shape: Tuple of input shape\n",
    "    :param output_sequence_length: Length of output sequence\n",
    "    :param english_vocab_size: Number of unique English words in the dataset\n",
    "    :param french_vocab_size: Number of unique French words in the dataset\n",
    "    :return: Keras model built, but not trained\n",
    "    \"\"\"\n",
    "    # TODO: Implement\n",
    "    input_to_rnn = Input(input_shape[1:])\n",
    "    embed = Embedding(input_dim=english_vocab_size, output_dim=256)(input_to_rnn)\n",
    "    rnn = GRU(384,return_sequences=True)(embed)\n",
    "    logits = TimeDistributed(Dense(french_vocab_size))(rnn)\n",
    "    \n",
    "    learning_rate = 1e-3\n",
    "    model = Model(input_to_rnn, Activation(\"softmax\")(logits)) \n",
    "    model.compile(loss=sparse_categorical_crossentropy,\n",
    "                  optimizer=Adam(learning_rate),\n",
    "                  metrics=['accuracy'])\n",
    "    return model\n",
    "    #return None\n",
    "tests.test_embed_model(embed_model)\n",
    "\n",
    "\n",
    "# TODO: Reshape the input\n",
    "tmp_x = pad(preproc_english_sentences, max_french_sequence_length)\n",
    "\n",
    "# TODO: Train the neural network\n",
    "simple_rnn_embed_model = embed_model(\n",
    "    tmp_x.shape,\n",
    "    max_french_sequence_length,\n",
    "    english_vocab_size,\n",
    "    french_vocab_size)\n",
    "simple_rnn_embed_model.fit(tmp_x, preproc_french_sentences, batch_size=1024, epochs=10, validation_split=0.2)\n",
    "\n",
    "# TODO: Print prediction(s)\n",
    "print(logits_to_text(simple_rnn_embed_model.predict(tmp_x[:1])[0], french_tokenizer))"
   ]
  },
  {
   "cell_type": "markdown",
   "metadata": {},
   "source": [
    "### Model 3: Bidirectional RNNs (IMPLEMENTATION)\n",
    "![RNN](images/bidirectional.png)\n",
    "One restriction of a RNN is that it can't see the future input, only the past.  This is where bidirectional recurrent neural networks come in.  They are able to see the future data."
   ]
  },
  {
   "cell_type": "code",
   "execution_count": 14,
   "metadata": {},
   "outputs": [
    {
     "name": "stdout",
     "output_type": "stream",
     "text": [
      "Epoch 1/10\n",
      "108/108 [==============================] - 12s 77ms/step - loss: 1.9710 - accuracy: 0.5614 - val_loss: nan - val_accuracy: 0.6194\n",
      "Epoch 2/10\n",
      "108/108 [==============================] - 8s 70ms/step - loss: 1.2907 - accuracy: 0.6373 - val_loss: nan - val_accuracy: 0.6509\n",
      "Epoch 3/10\n",
      "108/108 [==============================] - 8s 70ms/step - loss: 1.1321 - accuracy: 0.6691 - val_loss: nan - val_accuracy: 0.6818\n",
      "Epoch 4/10\n",
      "108/108 [==============================] - 7s 69ms/step - loss: 1.0246 - accuracy: 0.6908 - val_loss: nan - val_accuracy: 0.6956\n",
      "Epoch 5/10\n",
      "108/108 [==============================] - 7s 68ms/step - loss: 0.9539 - accuracy: 0.7018 - val_loss: nan - val_accuracy: 0.7037\n",
      "Epoch 6/10\n",
      "108/108 [==============================] - 7s 68ms/step - loss: 0.9041 - accuracy: 0.7091 - val_loss: nan - val_accuracy: 0.7073\n",
      "Epoch 7/10\n",
      "108/108 [==============================] - 7s 68ms/step - loss: 0.8666 - accuracy: 0.7139 - val_loss: nan - val_accuracy: 0.7167\n",
      "Epoch 8/10\n",
      "108/108 [==============================] - 7s 67ms/step - loss: 0.8305 - accuracy: 0.7207 - val_loss: nan - val_accuracy: 0.7228\n",
      "Epoch 9/10\n",
      "108/108 [==============================] - 7s 68ms/step - loss: 0.8018 - accuracy: 0.7261 - val_loss: nan - val_accuracy: 0.7316\n",
      "Epoch 10/10\n",
      "108/108 [==============================] - 7s 68ms/step - loss: 0.7743 - accuracy: 0.7325 - val_loss: nan - val_accuracy: 0.7295\n",
      "1/1 [==============================] - 1s 682ms/step\n",
      "new jersey est parfois chaud au mois de et et et en en en <PAD> <PAD> <PAD> <PAD> <PAD> <PAD> <PAD>\n"
     ]
    }
   ],
   "source": [
    "def bd_model(input_shape, output_sequence_length, english_vocab_size, french_vocab_size):\n",
    "    \"\"\"\n",
    "    Build and train a bidirectional RNN model on x and y\n",
    "    :param input_shape: Tuple of input shape\n",
    "    :param output_sequence_length: Length of output sequence\n",
    "    :param english_vocab_size: Number of unique English words in the dataset\n",
    "    :param french_vocab_size: Number of unique French words in the dataset\n",
    "    :return: Keras model built, but not trained\n",
    "    \"\"\"\n",
    "    # TODO: Implement\n",
    "    input_to_rnn = Input(input_shape[1:])\n",
    "    rnn = Bidirectional(GRU(384,return_sequences=True))(input_to_rnn)\n",
    "    logits = TimeDistributed(Dense(french_vocab_size))(rnn)\n",
    "    \n",
    "    learning_rate = 1e-3\n",
    "    model = Model(input_to_rnn, Activation('softmax')(logits)) \n",
    "    model.compile(loss=sparse_categorical_crossentropy,\n",
    "                  optimizer=Adam(learning_rate),\n",
    "                  metrics=['accuracy'])\n",
    "    return model\n",
    "    return None\n",
    "tests.test_bd_model(bd_model)\n",
    "\n",
    "\n",
    "# TODO: Train and Print prediction(s)\n",
    "tmp_x = pad(preproc_english_sentences, max_french_sequence_length)\n",
    "tmp_x = tmp_x.reshape((-1, preproc_french_sentences.shape[-2], 1))\n",
    "\n",
    "# Train the neural network\n",
    "bidirectional_rnn_model = bd_model(\n",
    "    tmp_x.shape,\n",
    "    max_french_sequence_length,\n",
    "    english_vocab_size,\n",
    "    french_vocab_size)\n",
    "bidirectional_rnn_model.fit(tmp_x, preproc_french_sentences, batch_size=1024, epochs=10, validation_split=0.2)\n",
    "\n",
    "# Print prediction(s)\n",
    "print(logits_to_text(bidirectional_rnn_model.predict(tmp_x[:1])[0], french_tokenizer))"
   ]
  },
  {
   "cell_type": "markdown",
   "metadata": {},
   "source": [
    "### Model 4: Encoder-Decoder (IMPLEMENTATION)\n",
    "Time to look at encoder-decoder models.  This model is made up of an encoder and decoder. The encoder creates a matrix representation of the sentence.  The decoder takes this matrix as input and predicts the translation as output.\n",
    "\n",
    "Create an encoder-decoder model in the cell below."
   ]
  },
  {
   "cell_type": "code",
   "execution_count": 15,
   "metadata": {},
   "outputs": [
    {
     "name": "stdout",
     "output_type": "stream",
     "text": [
      "Epoch 1/10\n",
      "108/108 [==============================] - 16s 105ms/step - loss: 2.3183 - accuracy: 0.5098 - val_loss: nan - val_accuracy: 0.5570\n",
      "Epoch 2/10\n",
      "108/108 [==============================] - 11s 98ms/step - loss: 1.5966 - accuracy: 0.5797 - val_loss: nan - val_accuracy: 0.5959\n",
      "Epoch 3/10\n",
      "108/108 [==============================] - 11s 100ms/step - loss: 1.3841 - accuracy: 0.6140 - val_loss: nan - val_accuracy: 0.6281\n",
      "Epoch 4/10\n",
      "108/108 [==============================] - 11s 98ms/step - loss: 1.2678 - accuracy: 0.6326 - val_loss: nan - val_accuracy: 0.6436\n",
      "Epoch 5/10\n",
      "108/108 [==============================] - 10s 97ms/step - loss: 1.1956 - accuracy: 0.6436 - val_loss: nan - val_accuracy: 0.6523\n",
      "Epoch 6/10\n",
      "108/108 [==============================] - 10s 96ms/step - loss: 1.1375 - accuracy: 0.6553 - val_loss: nan - val_accuracy: 0.6648\n",
      "Epoch 7/10\n",
      "108/108 [==============================] - 10s 96ms/step - loss: 1.0940 - accuracy: 0.6641 - val_loss: nan - val_accuracy: 0.6664\n",
      "Epoch 8/10\n",
      "108/108 [==============================] - 10s 96ms/step - loss: 1.0560 - accuracy: 0.6732 - val_loss: nan - val_accuracy: 0.6742\n",
      "Epoch 9/10\n",
      "108/108 [==============================] - 10s 97ms/step - loss: 1.0210 - accuracy: 0.6796 - val_loss: nan - val_accuracy: 0.6845\n",
      "Epoch 10/10\n",
      "108/108 [==============================] - 11s 98ms/step - loss: 0.9868 - accuracy: 0.6866 - val_loss: nan - val_accuracy: 0.6912\n",
      "1/1 [==============================] - 1s 832ms/step\n",
      "new jersey est parfois chaud en mois de il est il en en <PAD> <PAD> <PAD> <PAD> <PAD> <PAD> <PAD> <PAD>\n"
     ]
    }
   ],
   "source": [
    "def encdec_model(input_shape, output_sequence_length, english_vocab_size, french_vocab_size):\n",
    "    \"\"\"\n",
    "    Build and train an encoder-decoder model on x and y\n",
    "    :param input_shape: Tuple of input shape\n",
    "    :param output_sequence_length: Length of output sequence\n",
    "    :param english_vocab_size: Number of unique English words in the dataset\n",
    "    :param french_vocab_size: Number of unique French words in the dataset\n",
    "    :return: Keras model built, but not trained\n",
    "    \"\"\"\n",
    "    # TODO: Implement\n",
    "    from keras.layers import LSTM\n",
    "    input_to_encoder = Input(input_shape[1:])\n",
    "    encoder_output, state_hidden, state_cell = LSTM(units=384, return_state=True,\n",
    "                                                    return_sequences=False)(input_to_encoder)\n",
    "    \n",
    "    decoder_input = RepeatVector(output_sequence_length)(encoder_output)\n",
    "    decoder_output = LSTM(units=384, return_state=False,\n",
    "                    return_sequences=True)(decoder_input, initial_state=[state_hidden, state_cell])\n",
    "    logits = TimeDistributed(Dense(french_vocab_size))(decoder_output)\n",
    "    \n",
    "    learning_rate = 1e-3\n",
    "    model = Model(input_to_encoder, Activation('softmax')(logits)) \n",
    "    model.compile(loss=sparse_categorical_crossentropy,\n",
    "                  optimizer=Adam(learning_rate),\n",
    "                  metrics=['accuracy'])\n",
    "    return model\n",
    "    \n",
    "    #return None\n",
    "tests.test_encdec_model(encdec_model)\n",
    "\n",
    "\n",
    "# TODO: Train and Print prediction(s)\n",
    "tmp_x = pad(preproc_english_sentences, max_french_sequence_length)\n",
    "tmp_x = tmp_x.reshape((-1, preproc_french_sentences.shape[-2], 1))\n",
    "\n",
    "# Train the neural network\n",
    "encoder_decoder_model = encdec_model(\n",
    "    tmp_x.shape,\n",
    "    max_french_sequence_length,\n",
    "    english_vocab_size,\n",
    "    french_vocab_size)\n",
    "encoder_decoder_model.fit(tmp_x, preproc_french_sentences, batch_size=1024, epochs=10, validation_split=0.2)\n",
    "\n",
    "# Print prediction(s)\n",
    "print(logits_to_text(encoder_decoder_model.predict(tmp_x[:1])[0], french_tokenizer))"
   ]
  },
  {
   "cell_type": "markdown",
   "metadata": {},
   "source": [
    "### Model 5: Custom (IMPLEMENTATION)\n",
    "Use everything you learned from the previous models to create a model that incorporates embedding and a bidirectional rnn into one model."
   ]
  },
  {
   "cell_type": "code",
   "execution_count": 16,
   "metadata": {},
   "outputs": [
    {
     "name": "stdout",
     "output_type": "stream",
     "text": [
      "Final Model Loaded\n",
      "Epoch 1/10\n",
      "108/108 [==============================] - 20s 124ms/step - loss: 2.6466 - accuracy: 0.4759 - val_loss: nan - val_accuracy: 0.5531\n",
      "Epoch 2/10\n",
      "108/108 [==============================] - 12s 108ms/step - loss: 1.5435 - accuracy: 0.6038 - val_loss: nan - val_accuracy: 0.6398\n",
      "Epoch 3/10\n",
      "108/108 [==============================] - 12s 108ms/step - loss: 1.2079 - accuracy: 0.6790 - val_loss: nan - val_accuracy: 0.7030\n",
      "Epoch 4/10\n",
      "108/108 [==============================] - 12s 107ms/step - loss: 0.9995 - accuracy: 0.7237 - val_loss: nan - val_accuracy: 0.7375\n",
      "Epoch 5/10\n",
      "108/108 [==============================] - 11s 104ms/step - loss: 0.8373 - accuracy: 0.7613 - val_loss: nan - val_accuracy: 0.7799\n",
      "Epoch 6/10\n",
      "108/108 [==============================] - 11s 104ms/step - loss: 0.6956 - accuracy: 0.7973 - val_loss: nan - val_accuracy: 0.8138\n",
      "Epoch 7/10\n",
      "108/108 [==============================] - 11s 104ms/step - loss: 0.5768 - accuracy: 0.8315 - val_loss: nan - val_accuracy: 0.8372\n",
      "Epoch 8/10\n",
      "108/108 [==============================] - 11s 105ms/step - loss: 0.4746 - accuracy: 0.8634 - val_loss: nan - val_accuracy: 0.8777\n",
      "Epoch 9/10\n",
      "108/108 [==============================] - 11s 105ms/step - loss: 0.3917 - accuracy: 0.8900 - val_loss: nan - val_accuracy: 0.9046\n",
      "Epoch 10/10\n",
      "108/108 [==============================] - 11s 106ms/step - loss: 0.3211 - accuracy: 0.9120 - val_loss: nan - val_accuracy: 0.9155\n",
      "WARNING:tensorflow:5 out of the last 5 calls to <function Model.make_predict_function.<locals>.predict_function at 0x7862fd2b8e00> triggered tf.function retracing. Tracing is expensive and the excessive number of tracings could be due to (1) creating @tf.function repeatedly in a loop, (2) passing tensors with different shapes, (3) passing Python objects instead of tensors. For (1), please define your @tf.function outside of the loop. For (2), @tf.function has reduce_retracing=True option that can avoid unnecessary retracing. For (3), please refer to https://www.tensorflow.org/guide/function#controlling_retracing and https://www.tensorflow.org/api_docs/python/tf/function for  more details.\n",
      "1/1 [==============================] - 1s 1s/step\n",
      "new jersey est parfois calme pendant l' automne et il est pluvieux en <PAD> <PAD> <PAD> <PAD> <PAD> <PAD> <PAD> <PAD>\n"
     ]
    }
   ],
   "source": [
    "def model_final(input_shape, output_sequence_length, english_vocab_size, french_vocab_size):\n",
    "    \"\"\"\n",
    "    Build and train a model that incorporates embedding, encoder-decoder, and bidirectional RNN on x and y\n",
    "    :param input_shape: Tuple of input shape\n",
    "    :param output_sequence_length: Length of output sequence\n",
    "    :param english_vocab_size: Number of unique English words in the dataset\n",
    "    :param french_vocab_size: Number of unique French words in the dataset\n",
    "    :return: Keras model built, but not trained\n",
    "    \"\"\"\n",
    "    # TODO: Implement\n",
    "    from keras.layers import LSTM,concatenate\n",
    "    input_to_encoder = Input(input_shape[1:])\n",
    "    embed_encoder_in = Embedding(input_dim=english_vocab_size, output_dim=256,\n",
    "                      input_length=input_shape[1:][0])(input_to_encoder)\n",
    "    fwd_encoder_output, fwd_state_hidden, fwd_state_cell = LSTM(units=192, return_state=True,\n",
    "                    return_sequences=False, go_backwards=False)(embed_encoder_in)\n",
    "    bck_encoder_output, bck_state_hidden, bck_state_cell = LSTM(units=192, return_state=True,\n",
    "                    return_sequences=False, go_backwards=True)(embed_encoder_in)\n",
    "    \n",
    "    state_hidden = concatenate([fwd_state_hidden, bck_state_hidden])\n",
    "    state_cell = concatenate([fwd_state_cell, bck_state_cell])\n",
    "    encoder_output = concatenate([fwd_encoder_output, bck_encoder_output])\n",
    "    \n",
    "    decoder_input = RepeatVector(output_sequence_length)(encoder_output)\n",
    "    decoder_output = LSTM(units=384, return_state=False,\n",
    "                    return_sequences=True)(decoder_input, initial_state=[state_hidden, state_cell])\n",
    "    logits = TimeDistributed(Dense(french_vocab_size))(decoder_output)\n",
    "    \n",
    "    learning_rate = 1e-3\n",
    "    model = Model(input_to_encoder, Activation('softmax')(logits)) \n",
    "    model.compile(loss=sparse_categorical_crossentropy,\n",
    "                  optimizer=Adam(learning_rate),\n",
    "                  metrics=['accuracy'])\n",
    "    return model\n",
    "    #return None\n",
    "tests.test_model_final(model_final)\n",
    "\n",
    "\n",
    "print('Final Model Loaded')\n",
    "# TODO: Train the final model\n",
    "tmp_x = pad(preproc_english_sentences, max_french_sequence_length)\n",
    "#tmp_x = tmp_x.reshape((-1, preproc_french_sentences.shape[-2], 1))\n",
    "\n",
    "# Train the neural network\n",
    "final_encoder_decoder_model = model_final(\n",
    "    tmp_x.shape,\n",
    "    max_french_sequence_length,\n",
    "    english_vocab_size,\n",
    "    french_vocab_size)\n",
    "final_encoder_decoder_model.fit(tmp_x, preproc_french_sentences, batch_size=1024, epochs=10, validation_split=0.2)\n",
    "\n",
    "# Print prediction(s)\n",
    "print(logits_to_text(final_encoder_decoder_model.predict(tmp_x[:1])[0], french_tokenizer))"
   ]
  },
  {
   "cell_type": "markdown",
   "metadata": {},
   "source": [
    "## Prediction (IMPLEMENTATION)"
   ]
  },
  {
   "cell_type": "code",
   "execution_count": 17,
   "metadata": {},
   "outputs": [
    {
     "name": "stdout",
     "output_type": "stream",
     "text": [
      "Epoch 1/40\n",
      "431/431 [==============================] - 24s 39ms/step - loss: 1.6307 - accuracy: 0.6108 - val_loss: 1.0150 - val_accuracy: 0.7151\n",
      "Epoch 2/40\n",
      "431/431 [==============================] - 13s 29ms/step - loss: 0.8405 - accuracy: 0.7541 - val_loss: 0.6745 - val_accuracy: 0.7976\n",
      "Epoch 3/40\n",
      "431/431 [==============================] - 13s 30ms/step - loss: 0.5634 - accuracy: 0.8291 - val_loss: 0.4504 - val_accuracy: 0.8626\n",
      "Epoch 4/40\n",
      "431/431 [==============================] - 12s 29ms/step - loss: 0.3646 - accuracy: 0.8925 - val_loss: 0.2907 - val_accuracy: 0.9153\n",
      "Epoch 5/40\n",
      "431/431 [==============================] - 12s 28ms/step - loss: 0.2313 - accuracy: 0.9341 - val_loss: 0.2015 - val_accuracy: 0.9401\n",
      "Epoch 6/40\n",
      "431/431 [==============================] - 12s 28ms/step - loss: 0.1717 - accuracy: 0.9490 - val_loss: 0.1525 - val_accuracy: 0.9541\n",
      "Epoch 7/40\n",
      "431/431 [==============================] - 12s 28ms/step - loss: 0.1358 - accuracy: 0.9587 - val_loss: 0.1324 - val_accuracy: 0.9597\n",
      "Epoch 8/40\n",
      "431/431 [==============================] - 12s 28ms/step - loss: 0.1136 - accuracy: 0.9651 - val_loss: 0.1095 - val_accuracy: 0.9671\n",
      "Epoch 9/40\n",
      "431/431 [==============================] - 12s 28ms/step - loss: 0.1001 - accuracy: 0.9690 - val_loss: 0.0948 - val_accuracy: 0.9707\n",
      "Epoch 10/40\n",
      "431/431 [==============================] - 12s 28ms/step - loss: 0.0862 - accuracy: 0.9731 - val_loss: 0.1165 - val_accuracy: 0.9655\n",
      "Epoch 11/40\n",
      "431/431 [==============================] - 12s 28ms/step - loss: 0.0810 - accuracy: 0.9748 - val_loss: 0.0847 - val_accuracy: 0.9743\n",
      "Epoch 12/40\n",
      "431/431 [==============================] - 12s 28ms/step - loss: 0.0679 - accuracy: 0.9788 - val_loss: 0.0812 - val_accuracy: 0.9753\n",
      "Epoch 13/40\n",
      "431/431 [==============================] - 12s 28ms/step - loss: 0.0643 - accuracy: 0.9799 - val_loss: 0.0790 - val_accuracy: 0.9756\n",
      "Epoch 14/40\n",
      "431/431 [==============================] - 12s 28ms/step - loss: 0.0573 - accuracy: 0.9820 - val_loss: 0.0672 - val_accuracy: 0.9793\n",
      "Epoch 15/40\n",
      "431/431 [==============================] - 12s 28ms/step - loss: 0.0519 - accuracy: 0.9837 - val_loss: 0.0679 - val_accuracy: 0.9794\n",
      "Epoch 16/40\n",
      "431/431 [==============================] - 12s 28ms/step - loss: 0.0473 - accuracy: 0.9853 - val_loss: 0.0675 - val_accuracy: 0.9796\n",
      "Epoch 17/40\n",
      "431/431 [==============================] - 12s 28ms/step - loss: 0.0441 - accuracy: 0.9863 - val_loss: 0.0638 - val_accuracy: 0.9811\n",
      "Epoch 18/40\n",
      "431/431 [==============================] - 12s 28ms/step - loss: 0.0415 - accuracy: 0.9870 - val_loss: 0.0803 - val_accuracy: 0.9767\n",
      "Epoch 19/40\n",
      "431/431 [==============================] - 12s 28ms/step - loss: 0.0411 - accuracy: 0.9871 - val_loss: 0.0631 - val_accuracy: 0.9815\n",
      "Epoch 20/40\n",
      "431/431 [==============================] - 12s 28ms/step - loss: 0.0327 - accuracy: 0.9898 - val_loss: 0.0698 - val_accuracy: 0.9804\n",
      "Epoch 21/40\n",
      "431/431 [==============================] - 12s 28ms/step - loss: 0.0389 - accuracy: 0.9882 - val_loss: 0.0866 - val_accuracy: 0.9752\n",
      "Epoch 22/40\n",
      "431/431 [==============================] - 12s 28ms/step - loss: 0.0341 - accuracy: 0.9893 - val_loss: 0.0654 - val_accuracy: 0.9817\n",
      "Epoch 23/40\n",
      "431/431 [==============================] - 12s 28ms/step - loss: 0.0241 - accuracy: 0.9926 - val_loss: 0.0593 - val_accuracy: 0.9830\n",
      "Epoch 24/40\n",
      "431/431 [==============================] - 12s 28ms/step - loss: 0.0226 - accuracy: 0.9930 - val_loss: 0.0618 - val_accuracy: 0.9833\n",
      "Epoch 25/40\n",
      "431/431 [==============================] - 12s 28ms/step - loss: 0.0304 - accuracy: 0.9908 - val_loss: 0.0619 - val_accuracy: 0.9831\n",
      "Epoch 26/40\n",
      "431/431 [==============================] - 12s 28ms/step - loss: 0.0273 - accuracy: 0.9917 - val_loss: 0.0634 - val_accuracy: 0.9829\n",
      "Epoch 27/40\n",
      "431/431 [==============================] - 12s 28ms/step - loss: 0.0198 - accuracy: 0.9940 - val_loss: 0.0595 - val_accuracy: 0.9842\n",
      "Epoch 28/40\n",
      "431/431 [==============================] - 12s 28ms/step - loss: 0.0192 - accuracy: 0.9941 - val_loss: 0.0611 - val_accuracy: 0.9837\n",
      "Epoch 29/40\n",
      "431/431 [==============================] - 12s 28ms/step - loss: 0.0226 - accuracy: 0.9930 - val_loss: 0.0611 - val_accuracy: 0.9842\n",
      "Epoch 30/40\n",
      "431/431 [==============================] - 12s 28ms/step - loss: 0.0182 - accuracy: 0.9945 - val_loss: 0.0571 - val_accuracy: 0.9855\n",
      "Epoch 31/40\n",
      "431/431 [==============================] - 12s 28ms/step - loss: 0.0161 - accuracy: 0.9952 - val_loss: 0.0632 - val_accuracy: 0.9841\n",
      "Epoch 32/40\n",
      "431/431 [==============================] - 12s 28ms/step - loss: 0.0167 - accuracy: 0.9950 - val_loss: 0.0749 - val_accuracy: 0.9805\n",
      "Epoch 33/40\n",
      "431/431 [==============================] - 12s 28ms/step - loss: 0.0250 - accuracy: 0.9924 - val_loss: 0.0607 - val_accuracy: 0.9847\n",
      "Epoch 34/40\n",
      "431/431 [==============================] - 12s 28ms/step - loss: 0.0139 - accuracy: 0.9959 - val_loss: 0.0605 - val_accuracy: 0.9847\n",
      "Epoch 35/40\n",
      "431/431 [==============================] - 12s 28ms/step - loss: 0.0152 - accuracy: 0.9957 - val_loss: 0.0636 - val_accuracy: 0.9845\n",
      "Epoch 36/40\n",
      "431/431 [==============================] - 12s 29ms/step - loss: 0.0151 - accuracy: 0.9956 - val_loss: 0.0662 - val_accuracy: 0.9841\n",
      "Epoch 37/40\n",
      "431/431 [==============================] - 12s 28ms/step - loss: 0.0163 - accuracy: 0.9952 - val_loss: 0.0658 - val_accuracy: 0.9851\n",
      "Epoch 38/40\n",
      "431/431 [==============================] - 12s 28ms/step - loss: 0.0102 - accuracy: 0.9970 - val_loss: 0.0638 - val_accuracy: 0.9856\n",
      "Epoch 39/40\n",
      "431/431 [==============================] - 12s 28ms/step - loss: 0.0091 - accuracy: 0.9973 - val_loss: 0.0643 - val_accuracy: 0.9853\n",
      "Epoch 40/40\n",
      "431/431 [==============================] - 12s 28ms/step - loss: 0.0131 - accuracy: 0.9963 - val_loss: 0.0668 - val_accuracy: 0.9852\n",
      "WARNING:tensorflow:6 out of the last 6 calls to <function Model.make_predict_function.<locals>.predict_function at 0x7862ec19f6a0> triggered tf.function retracing. Tracing is expensive and the excessive number of tracings could be due to (1) creating @tf.function repeatedly in a loop, (2) passing tensors with different shapes, (3) passing Python objects instead of tensors. For (1), please define your @tf.function outside of the loop. For (2), @tf.function has reduce_retracing=True option that can avoid unnecessary retracing. For (3), please refer to https://www.tensorflow.org/guide/function#controlling_retracing and https://www.tensorflow.org/api_docs/python/tf/function for  more details.\n",
      "1/1 [==============================] - 1s 1s/step\n",
      "Sample 1:\n",
      "il a vu un vieux camion jaune <PAD> <PAD> <PAD> <PAD> <PAD> <PAD> <PAD> <PAD> <PAD> <PAD> <PAD> <PAD> <PAD> <PAD>\n",
      "Il a vu un vieux camion jaune\n",
      "Sample 2:\n",
      "new jersey est parfois calme pendant l' automne et il est neigeux en avril <PAD> <PAD> <PAD> <PAD> <PAD> <PAD> <PAD>\n",
      "new jersey est parfois calme pendant l' automne et il est neigeux en avril <PAD> <PAD> <PAD> <PAD> <PAD> <PAD> <PAD>\n"
     ]
    }
   ],
   "source": [
    "def final_predictions(x, y, x_tk, y_tk):\n",
    "    \"\"\"\n",
    "    Gets predictions using the final model\n",
    "    :param x: Preprocessed English data\n",
    "    :param y: Preprocessed French data\n",
    "    :param x_tk: English tokenizer\n",
    "    :param y_tk: French tokenizer\n",
    "    \"\"\"\n",
    "    # TODO: Train neural network using model_final\n",
    "    model = model_final(x.shape, y.shape[1],\n",
    "                        len(x_tk.word_index) + 1, len(y_tk.word_index) + 1)\n",
    "    model.fit(x, y, batch_size=256, epochs=40, validation_split=0.2)\n",
    "    #model = None\n",
    "\n",
    "    \n",
    "    ## DON'T EDIT ANYTHING BELOW THIS LINE\n",
    "    y_id_to_word = {value: key for key, value in y_tk.word_index.items()}\n",
    "    y_id_to_word[0] = '<PAD>'\n",
    "\n",
    "    sentence = 'he saw a old yellow truck'\n",
    "    sentence = [x_tk.word_index[word] for word in sentence.split()]\n",
    "    sentence = pad_sequences([sentence], maxlen=x.shape[-1], padding='post')\n",
    "    sentences = np.array([sentence[0], x[0]])\n",
    "    predictions = model.predict(sentences, len(sentences))\n",
    "\n",
    "    print('Sample 1:')\n",
    "    print(' '.join([y_id_to_word[np.argmax(x)] for x in predictions[0]]))\n",
    "    print('Il a vu un vieux camion jaune')\n",
    "    print('Sample 2:')\n",
    "    print(' '.join([y_id_to_word[np.argmax(x)] for x in predictions[1]]))\n",
    "    print(' '.join([y_id_to_word[np.max(x)] for x in y[0]]))\n",
    "\n",
    "\n",
    "final_predictions(preproc_english_sentences, preproc_french_sentences, english_tokenizer, french_tokenizer)"
   ]
  },
  {
   "cell_type": "markdown",
   "metadata": {},
   "source": [
    "## Submission\n",
    "When you're ready to submit, complete the following steps:\n",
    "1. Review the rubric to ensure your submission meets all requirements to pass\n",
    "2. Generate an HTML version of this notebook\n",
    "\n",
    "  - Run the next cell to attempt automatic generation (this is the recommended method in Workspaces)\n",
    "  - Navigate to **FILE -> Download as -> HTML (.html)**\n",
    "  - Manually generate a copy using `nbconvert` from your shell terminal\n",
    "```\n",
    "$ pip install nbconvert\n",
    "$ python -m nbconvert machine_translation.ipynb\n",
    "```\n",
    "  \n",
    "3. Submit the project\n",
    "\n",
    "  - If you are in a Workspace, simply click the \"Submit Project\" button (bottom towards the right)\n",
    "  \n",
    "  - Otherwise, add the following files into a zip archive and submit them \n",
    "  - `helper.py`\n",
    "  - `machine_translation.ipynb`\n",
    "  - `machine_translation.html`\n",
    "    - You can export the notebook by navigating to **File -> Download as -> HTML (.html)**."
   ]
  },
  {
   "cell_type": "markdown",
   "metadata": {},
   "source": [
    "### Generate the html\n",
    "\n",
    "**Save your notebook before running the next cell to generate the HTML output.** Then submit your project."
   ]
  },
  {
   "cell_type": "code",
   "execution_count": 18,
   "metadata": {},
   "outputs": [
    {
     "data": {
      "text/plain": [
       "['[NbConvertApp] Converting notebook machine_translation-zh.ipynb to html',\n",
       " '[NbConvertApp] Writing 330691 bytes to machine_translation-zh.html',\n",
       " '[NbConvertApp] Converting notebook machine_translation.ipynb to html',\n",
       " '[NbConvertApp] Writing 386581 bytes to machine_translation.html']"
      ]
     },
     "execution_count": 18,
     "metadata": {},
     "output_type": "execute_result"
    }
   ],
   "source": [
    "# Save before you run this cell!\n",
    "!!jupyter nbconvert --to html *.ipynb"
   ]
  },
  {
   "cell_type": "markdown",
   "metadata": {},
   "source": [
    "## Optional Enhancements\n",
    "\n",
    "This project focuses on learning various network architectures for machine translation, but we don't evaluate the models according to best practices by splitting the data into separate test & training sets -- so the model accuracy is overstated. Use the [`sklearn.model_selection.train_test_split()`](http://scikit-learn.org/stable/modules/generated/sklearn.model_selection.train_test_split.html) function to create separate training & test datasets, then retrain each of the models using only the training set and evaluate the prediction accuracy using the hold out test set. Does the \"best\" model change?"
   ]
  }
 ],
 "metadata": {
  "kernelspec": {
   "display_name": "Python 3 (ipykernel)",
   "language": "python",
   "name": "python3"
  },
  "language_info": {
   "codemirror_mode": {
    "name": "ipython",
    "version": 3
   },
   "file_extension": ".py",
   "mimetype": "text/x-python",
   "name": "python",
   "nbconvert_exporter": "python",
   "pygments_lexer": "ipython3",
   "version": "3.11.0rc1"
  }
 },
 "nbformat": 4,
 "nbformat_minor": 1
}
